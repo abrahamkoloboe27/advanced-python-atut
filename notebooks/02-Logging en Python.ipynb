{
 "cells": [
  {
   "cell_type": "markdown",
   "id": "6f54ef88",
   "metadata": {},
   "source": [
    "# Logging en Python\n",
    "\n",
    "> Objectif : comprendre l'utilité du logging, apprendre à configurer et utiliser le module `logging` dans des scripts et des projets data. Ce notebook contient des explications courtes, des exemples exécutables et des bonnes pratiques.\n",
    "\n",
    "\n",
    "\n",
    "\n",
    "## 1) Pourquoi utiliser le logging ?\n",
    "\n",
    "- `print()` est utile en dev rapide, mais **le logging** est conçu pour :\n",
    "  - gérer différents niveaux d'urgence (DEBUG / INFO / WARNING / ERROR / CRITICAL),\n",
    "  - router les messages vers plusieurs destinations (console, fichier, socket),\n",
    "  - structurer et formater les messages (timestamp, module, contexte),\n",
    "  - activer/désactiver la verbosité sans changer le code source,\n",
    "  - mieux s'intégrer aux outils de monitoring et aux environnements de production (containers, systèmes de log centralisés).\n",
    "\n",
    "**Cas d'usage data** : suivre l'avancement d'un pipeline, logger les tailles de dataset, timestamps d'étapes, erreurs d'ETL, métriques légères, etc.\n",
    "\n",
    "\n",
    "## 2) Concepts clés\n",
    "\n",
    "- **Logger** : objet qui émet des événements (nommé, ex: `my_app.module`).\n",
    "- **Handler** : destination des logs (console, fichier, rotating file, HTTP...).\n",
    "- **Formatter** : format du message enregistré.\n",
    "- **Level** : seuil de sévérité (DEBUG < INFO < WARNING < ERROR < CRITICAL).\n",
    "- **Filter** : filtre fin par message/logger.\n",
    "\n",
    "\n",
    "## 3) Exemple minimal — commencer simplement\n",
    "\n",
    "- Utiliser `getLogger(__name__)` dans les modules pour obtenir un logger nommé.\n",
    "- Configurer un logger de base dans le `if __name__ == \"__main__\"`."
   ]
  },
  {
   "cell_type": "code",
   "execution_count": 4,
   "id": "e62f4024",
   "metadata": {},
   "outputs": [
    {
     "name": "stderr",
     "output_type": "stream",
     "text": [
      "2025-08-14 13:57:42,680 [INFO] __main__ - Début du script\n",
      "2025-08-14 13:57:42,682 [WARNING] __main__ - Un avertissement\n",
      "2025-08-14 13:57:42,683 [ERROR] __main__ - Une erreur simulée\n"
     ]
    }
   ],
   "source": [
    "import logging\n",
    "# configuration basique — utile en dev\n",
    "logging.basicConfig(\n",
    "    level=logging.DEBUG,\n",
    "    format=\"%(asctime)s [%(levelname)s] %(name)s - %(message)s\",\n",
    ")\n",
    "\n",
    "logger = logging.getLogger(__name__)\n",
    "\n",
    "logger.debug(\"Message debug — utile pour dev\")\n",
    "logger.info(\"Début du script\")\n",
    "logger.warning(\"Un avertissement\")\n",
    "logger.error(\"Une erreur simulée\")"
   ]
  },
  {
   "cell_type": "markdown",
   "id": "f6be6d12",
   "metadata": {},
   "source": [
    "## 5) Handlers — écrire dans un fichier ou utiliser rotation\n",
    "\n",
    "Exemple : console + fichier avec rotation (fichier limité à 5Mo, garder 3 backups).\n"
   ]
  },
  {
   "cell_type": "code",
   "execution_count": 5,
   "id": "ab936ab6",
   "metadata": {},
   "outputs": [
    {
     "name": "stderr",
     "output_type": "stream",
     "text": [
      "2025-08-14 13:59:00,862 [INFO] my_data_pipeline:30 - Logger configuré avec console + rotation\n",
      "2025-08-14 13:59:00,862 [INFO] my_data_pipeline - Logger configuré avec console + rotation\n",
      "2025-08-14 13:59:00,868 [DEBUG] my_data_pipeline - Debug écrit dans le fichier mais pas en console\n"
     ]
    }
   ],
   "source": [
    "import logging\n",
    "from logging.handlers import RotatingFileHandler\n",
    "from pathlib import Path\n",
    "\n",
    "log_dir = Path(\"logs\")\n",
    "log_dir.mkdir(exist_ok=True)\n",
    "\n",
    "logger = logging.getLogger(\"my_data_pipeline\")\n",
    "logger.setLevel(logging.DEBUG)  # logger en DEBUG localement\n",
    "\n",
    "# StreamHandler pour la console\n",
    "sh = logging.StreamHandler()\n",
    "sh.setLevel(logging.INFO)\n",
    "sh.setFormatter(\n",
    "    logging.Formatter(\"%(asctime)s [%(levelname)s] %(name)s:%(lineno)d - %(message)s\")\n",
    ")\n",
    "\n",
    "# RotatingFileHandler pour fichier\n",
    "fh = RotatingFileHandler(log_dir / \"pipeline.log\", maxBytes=5_000_000, backupCount=3)\n",
    "fh.setLevel(logging.DEBUG)\n",
    "fh.setFormatter(\n",
    "    logging.Formatter(\"%(asctime)s [%(levelname)s] %(name)s - %(message)s\")\n",
    ")\n",
    "\n",
    "# Attacher handlers (attention à ne pas attacher plusieurs fois dans REPL)\n",
    "if not logger.handlers:\n",
    "    logger.addHandler(sh)\n",
    "    logger.addHandler(fh)\n",
    "\n",
    "logger.info(\"Logger configuré avec console + rotation\")\n",
    "logger.debug(\"Debug écrit dans le fichier mais pas en console\")"
   ]
  },
  {
   "cell_type": "markdown",
   "id": "a2c96c87",
   "metadata": {},
   "source": [
    "## 6) Exemple avancé : dictConfig (configuration déclarative)\n",
    "\n",
    "`logging.config.dictConfig` permet de configurer l'ensemble via un dictionnaire (pratique pour charger depuis YAML/TOML)."
   ]
  },
  {
   "cell_type": "code",
   "execution_count": 9,
   "id": "9d7421f8",
   "metadata": {},
   "outputs": [
    {
     "name": "stderr",
     "output_type": "stream",
     "text": [
      "2025-08-14 14:01:42,903 [INFO] __main__ - Logger via dictConfig actif\n"
     ]
    }
   ],
   "source": [
    "import logging.config\n",
    "\n",
    "LOG_CONFIG = {\n",
    "    \"version\": 1,\n",
    "    \"disable_existing_loggers\": False,\n",
    "    \"formatters\": {\n",
    "        \"standard\": {\n",
    "            \"format\": \"%(asctime)s [%(levelname)s] %(name)s - %(message)s\"\n",
    "        }\n",
    "    },\n",
    "    \"handlers\": {\n",
    "        \"console\": {\n",
    "            \"class\": \"logging.StreamHandler\",\n",
    "            \"formatter\": \"standard\",\n",
    "            \"level\": \"INFO\",\n",
    "        },\n",
    "        \"file\": {\n",
    "            \"class\": \"logging.handlers.RotatingFileHandler\",\n",
    "            \"formatter\": \"standard\",\n",
    "            \"level\": \"DEBUG\",\n",
    "            \"filename\": \"logs/dictconfig_pipeline.log\",\n",
    "            \"maxBytes\": 1_000_000,\n",
    "            \"backupCount\": 2,\n",
    "        },\n",
    "    },\n",
    "    \"loggers\": {\n",
    "        \"\": {\"handlers\": [\"console\", \"file\"], \"level\": \"DEBUG\"},\n",
    "    },\n",
    "}\n",
    "\n",
    "logging.config.dictConfig(LOG_CONFIG)\n",
    "logger = logging.getLogger(__name__)\n",
    "logger.info(\"Logger via dictConfig actif\")\n"
   ]
  }
 ],
 "metadata": {
  "kernelspec": {
   "display_name": "base",
   "language": "python",
   "name": "python3"
  },
  "language_info": {
   "codemirror_mode": {
    "name": "ipython",
    "version": 3
   },
   "file_extension": ".py",
   "mimetype": "text/x-python",
   "name": "python",
   "nbconvert_exporter": "python",
   "pygments_lexer": "ipython3",
   "version": "3.12.2"
  }
 },
 "nbformat": 4,
 "nbformat_minor": 5
}
