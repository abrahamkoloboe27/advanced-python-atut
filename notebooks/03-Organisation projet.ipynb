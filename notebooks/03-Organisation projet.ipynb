{
 "cells": [
  {
   "cell_type": "markdown",
   "id": "4537d802",
   "metadata": {},
   "source": [
    "# Organisation projet — rappel court 🗂️\n",
    "\n",
    "Voici une fiche courte et actionnable que tu peux distribuer en TP pour rappeler **comment structurer un projet Python orienté Data**.\n",
    "\n",
    "## Arborescence minimale (recommandée)\n",
    "\n",
    "```\n",
    "my_data_project/\n",
    "├─ data/               # données (raw/processed) -> ne pas committer les raw\n",
    "├─ notebooks/          # notebooks pédagogiques / exploration\n",
    "├─ src/\n",
    "│  └─ my_data_project/ # package: code réutilisable\n",
    "├─ scripts/            # scripts exécutables (run_pipeline.py)\n",
    "├─ tests/              # tests pytest\n",
    "├─ outputs/            # résultats exportés\n",
    "├─ configs/            # .yaml/.toml pour paramètres\n",
    "├─ docs/               # cheatsheets, guides, slides\n",
    "├─ .gitignore\n",
    "├─ pyproject.toml\n",
    "├─ uv.lock             # lockfile (si tu versionnes)\n",
    "├─ README.md\n",
    "└─ LICENSE\n",
    "```\n",
    "\n",
    "## Règles simples et utiles\n",
    "\n",
    "* **Séparer code & données** : `data/` n’est pas dans Git (ajouter à `.gitignore`).\n",
    "* **Tout code réutilisable dans `src/<pkg>/`** pour faciliter l’import et le packaging.\n",
    "* **Scripts vs package** : `scripts/` pour lancer le pipeline / démo ; `src/` pour la logique testable.\n",
    "* **Configurations** dans `configs/` (yaml/toml) — ne pas hardcoder.\n",
    "* **Outputs** isolés dans `outputs/` (recréables, idempotence).\n",
    "* **Notebooks = exploration** ; garder versions nettoyées pour partage (`notebooks/clean/` si besoin).\n",
    "* **Tests** : `tests/` avec `pytest` → au moins un test par fonction critique.\n",
    "* **Docs / cheatsheets** : `docs/` pour bonnes pratiques et commandes d’installation.\n",
    "* **Lockfile** (`uv.lock`) : versionner pour reproducibility (optionnel selon politique).\n",
    "* **.gitignore** : ignorer `data/raw/*`, `.venv/`, `outputs/*`, fichiers temporaires.\n",
    "\n",
    "## Bonnes pratiques (rapide)\n",
    "\n",
    "* Fonctions courtes, docstrings, typing.\n",
    "* Logging (`logging`) plutôt que `print` pour scripts.\n",
    "* Atomic write pour sorties (tmp → replace).\n",
    "* Idempotence : rerun sans duplication.\n",
    "* CI simple : lint + mypy + pytest (ex. GitHub Actions).\n",
    "* Versionne le `pyproject.toml` et le lockfile pour reproduire l’environnement (tu utilises `uv`).\n",
    "\n",
    "## README minimal (à inclure)\n",
    "\n",
    "* But du projet (1 phrase)\n",
    "* Prérequis (python, uv)\n",
    "* Installation rapide (uv venv / uv pip sync / uvx commands)\n",
    "* Exemple d’utilisation (commande)\n",
    "* Structure du repo (quelques lignes)\n",
    "* Contact / licence\n",
    "\n"
   ]
  },
  {
   "cell_type": "markdown",
   "id": "98d4d357",
   "metadata": {},
   "source": []
  }
 ],
 "metadata": {
  "language_info": {
   "name": "python"
  }
 },
 "nbformat": 4,
 "nbformat_minor": 5
}
