{
 "cells": [
  {
   "cell_type": "markdown",
   "id": "12722949",
   "metadata": {},
   "source": [
    "# Idempotence & Atomicité  ⚙️\n",
    "# 1. Définitions rapides\n",
    "\n",
    "* **Idempotence** : exécuter la même opération plusieurs fois produit le même résultat qu’une seule exécution (pas d’effets secondaires répétés).\n",
    "  Ex : écrire un fichier de sortie nommé par un run\\_id unique, ou faire un `INSERT ... ON CONFLICT DO UPDATE` (Postgres).\n",
    "  \n",
    "* **Atomicité** : une opération est atomique si elle est entièrement appliquée ou pas du tout (pas d’état intermédiaire visible).\n",
    "  Ex : écrire d’abord dans un fichier temporaire puis renommer (replace) → opération atomique du point de vue du consommateur.\n",
    "\n",
    "\n",
    "# 2. Pourquoi c’est important pour la data\n",
    "\n",
    "* Permet de **relancer** un job sans casser les données (retry safe).\n",
    "* Évite **doublons**, **corruptions** partielles et états intermédiaires visibles par d’autres jobs.\n",
    "* Facilite le **debugging** et la reproductibilité.\n",
    "* Indispensable en production : orchestrateurs peuvent relancer, réseaux/IO peuvent échouer → il faut pouvoir redémarrer proprement."
   ]
  }
 ],
 "metadata": {
  "language_info": {
   "name": "python"
  }
 },
 "nbformat": 4,
 "nbformat_minor": 5
}
