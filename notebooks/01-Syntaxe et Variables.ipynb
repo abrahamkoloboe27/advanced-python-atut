{
 "cells": [
  {
   "cell_type": "markdown",
   "id": "5f872562",
   "metadata": {},
   "source": [
    "# Notebook — Syntaxe & notions fondamentales en Python\n",
    "\n",
    "\n",
    "> Objectif : rappeler ce qu'est Python, pourquoi *tout est objet* en Python, puis présenter la syntaxe et les notions de base indispensables pour des travaux en data.\n",
    "\n",
    "Ce notebook est conçu pour un TP court. Les cellules contiennent des explications concises suivies d'exemples exécutables.\n",
    "\n"
   ]
  },
  {
   "cell_type": "markdown",
   "id": "67143f18",
   "metadata": {},
   "source": [
    "## 1) C'est quoi Python ?\n",
    "\n",
    "Python est un langage de programmation interprété, haut niveau, dynamique et multi-paradigme (impératif, orienté objets, fonctionnel). Il est très utilisé en data science pour sa lisibilité et son écosystème (pandas, numpy, scikit-learn...).\n",
    "\n",
    "**Remarque importante** : en Python, *tout est un objet*. Les nombres, les chaînes, les fonctions, les classes — tout a un type et une identité (un emplacement en mémoire). Cela signifie qu'on peut manipuler les types au runtime, inspecter `type(...)` et `id(...)`, et attacher des méthodes aux objets via leurs classes.\n"
   ]
  },
  {
   "cell_type": "markdown",
   "id": "17bb693b",
   "metadata": {
    "vscode": {
     "languageId": "plaintext"
    }
   },
   "source": [
    "## 2) Exemples : objets et identité\n",
    "\n",
    "On montre que tout est objet : types, méthodes, identité (`id`).\n",
    "# Exemples : tout est objet"
   ]
  },
  {
   "cell_type": "code",
   "execution_count": 1,
   "id": "00b60467",
   "metadata": {},
   "outputs": [
    {
     "name": "stdout",
     "output_type": "stream",
     "text": [
      "<class 'int'> <class 'str'> <class 'list'> <class 'function'>\n",
      "id(x)= 4301166656\n",
      "id(L)= 4454492096\n"
     ]
    }
   ],
   "source": [
    "x = 10\n",
    "s = \"hello\"\n",
    "L = [1, 2, 3]\n",
    "\n",
    "def f(a):\n",
    "    return a * 2\n",
    "\n",
    "print(type(x), type(s), type(L), type(f))\n",
    "print(\"id(x)=\", id(x))\n",
    "print(\"id(L)=\", id(L))"
   ]
  },
  {
   "cell_type": "markdown",
   "id": "49387dac",
   "metadata": {},
   "source": [
    "## On peut inspecter des attributs et méthodes"
   ]
  },
  {
   "cell_type": "code",
   "execution_count": 2,
   "id": "0ca3856c",
   "metadata": {},
   "outputs": [
    {
     "name": "stdout",
     "output_type": "stream",
     "text": [
      "str methods sample: ['__add__', '__class__', '__contains__', '__delattr__', '__dir__', '__doc__', '__eq__', '__format__']\n",
      "10\n"
     ]
    }
   ],
   "source": [
    "print(\"str methods sample:\", dir(s)[:8])\n",
    "\n",
    "# Fonctions aussi sont des objets (on peut les assigner)\n",
    "g = f\n",
    "print(g(5))"
   ]
  },
  {
   "cell_type": "markdown",
   "id": "74ea3852",
   "metadata": {},
   "source": [
    "## 3) Variables, types et annotations\n",
    "\n",
    "- Python est dynamiquement typé : la variable n'a pas de type fixe ; l'objet auquel elle réfère en a.\n",
    "- Les annotations de type (`x: int`) sont informatives et utiles pour les outils (mypy, IDE), mais n'empêchent pas l'affectation d'autres types à l'exécution.\n",
    "\n",
    "### Annotations et vérification runtime légère"
   ]
  },
  {
   "cell_type": "code",
   "execution_count": 3,
   "id": "934d2e3b",
   "metadata": {},
   "outputs": [
    {
     "name": "stdout",
     "output_type": "stream",
     "text": [
      "42 <class 'int'>\n",
      "maintenant une string <class 'str'>\n",
      "True\n"
     ]
    }
   ],
   "source": [
    "x: int = 42\n",
    "print(x, type(x))\n",
    "\n",
    "x = \"maintenant une string\"\n",
    "print(x, type(x))\n",
    "\n",
    "# isinstance\n",
    "y = 3.14\n",
    "print(isinstance(y, float))"
   ]
  },
  {
   "cell_type": "markdown",
   "id": "f1ce3306",
   "metadata": {},
   "source": [
    "### Exemple de typing utile dans une fonction"
   ]
  },
  {
   "cell_type": "code",
   "execution_count": 4,
   "id": "4fc68d20",
   "metadata": {},
   "outputs": [
    {
     "name": "stdout",
     "output_type": "stream",
     "text": [
      "2.0\n"
     ]
    }
   ],
   "source": [
    "from typing import List\n",
    "\n",
    "def mean(values: List[float]) -> float:\n",
    "    return sum(values) / len(values)\n",
    "\n",
    "print(mean([1.0, 2.0, 3.0]))\n"
   ]
  },
  {
   "cell_type": "markdown",
   "id": "2cfaede1",
   "metadata": {},
   "source": [
    "## 4) Opérations de base & print / f-strings\n",
    "\n",
    "- `print()` pour afficher. Préférer f-strings (`f\"...{var}...\"`) pour formattage moderne.\n",
    "\n",
    "### Opérations basiques et f-strings"
   ]
  },
  {
   "cell_type": "code",
   "execution_count": 5,
   "id": "12cb58bc",
   "metadata": {},
   "outputs": [
    {
     "name": "stdout",
     "output_type": "stream",
     "text": [
      "a + b = 7\n",
      "a / b = 2.500\n",
      "Bonjour, Abraham!\n",
      "Bonjour Abraham. Sache que 5+2 = 7\n"
     ]
    }
   ],
   "source": [
    "a = 5\n",
    "b = 2\n",
    "print(\"a + b =\", a + b)\n",
    "print(f\"a / b = {a / b:.3f}\")\n",
    "\n",
    "# Concaténation de strings\n",
    "name = \"Abraham\"\n",
    "print(f\"Bonjour, {name}!\")\n",
    "print(f\"Bonjour {name}. Sache que {a}+{b} = {a+b}\")"
   ]
  },
  {
   "cell_type": "markdown",
   "id": "449ad2d2",
   "metadata": {},
   "source": [
    "## 5) Strings et f-strings rapides\n",
    "\n",
    "Quelques opérations utiles pour data : `.split()`, `.strip()`, `.lower()`, `.replace()`, et f-strings pour construire des messages ou chemins.\n"
   ]
  },
  {
   "cell_type": "code",
   "execution_count": 6,
   "id": "4dc01af5",
   "metadata": {},
   "outputs": [
    {
     "name": "stdout",
     "output_type": "stream",
     "text": [
      "Python est génial\n",
      "  python est génial\n",
      "\n",
      "split: ['Python', 'est', 'génial']\n",
      "Valeur arrondie: 123.5\n"
     ]
    }
   ],
   "source": [
    "s = \"  Python est génial\\n\"\n",
    "print(s.strip())\n",
    "print(s.lower())\n",
    "print(\"split:\", s.strip().split())\n",
    "\n",
    "# f-strings multi-lignes et expressions\n",
    "val = 123.456\n",
    "print(f\"Valeur arrondie: {val:.1f}\")"
   ]
  },
  {
   "cell_type": "markdown",
   "id": "16c1d5c2",
   "metadata": {},
   "source": [
    "## 6) Structures conditionnelles\n",
    "`if / elif / else` — syntaxe simple, indentation significative."
   ]
  },
  {
   "cell_type": "code",
   "execution_count": 7,
   "id": "94fe743f",
   "metadata": {},
   "outputs": [
    {
     "name": "stdout",
     "output_type": "stream",
     "text": [
      "positif\n"
     ]
    }
   ],
   "source": [
    "x = 10\n",
    "if x < 0:\n",
    "    print(\"neg\")\n",
    "elif x == 0:\n",
    "    print(\"zero\")\n",
    "else:\n",
    "    print(\"positif\")"
   ]
  },
  {
   "cell_type": "markdown",
   "id": "9d33650f",
   "metadata": {},
   "source": [
    "### Condition ternaire"
   ]
  },
  {
   "cell_type": "code",
   "execution_count": 8,
   "id": "cb2e7ff1",
   "metadata": {},
   "outputs": [
    {
     "name": "stdout",
     "output_type": "stream",
     "text": [
      "+\n"
     ]
    }
   ],
   "source": [
    "sign = \"+\" if x > 0 else \"-\"\n",
    "print(sign)"
   ]
  },
  {
   "cell_type": "markdown",
   "id": "c9bf5bb5",
   "metadata": {},
   "source": [
    "## 7) Boucles et itérations\n",
    "- `for` parcourt des itérables (list, range, dict, generator, etc.).\n",
    "- `while` pour conditions dépendant d'état.\n",
    "- `enumerate` et `zip` sont très utiles.\n",
    "\n",
    "### for loop"
   ]
  },
  {
   "cell_type": "code",
   "execution_count": 9,
   "id": "b7cb29b3",
   "metadata": {},
   "outputs": [
    {
     "name": "stdout",
     "output_type": "stream",
     "text": [
      "0\n",
      "1\n",
      "2\n"
     ]
    }
   ],
   "source": [
    "for i in range(3):\n",
    "    print(i)\n"
   ]
  },
  {
   "cell_type": "markdown",
   "id": "6e1dc775",
   "metadata": {},
   "source": [
    "### iterer sur liste"
   ]
  },
  {
   "cell_type": "code",
   "execution_count": 10,
   "id": "53cd58db",
   "metadata": {},
   "outputs": [
    {
     "name": "stdout",
     "output_type": "stream",
     "text": [
      "0 pomme\n",
      "1 banane\n",
      "2 cerise\n"
     ]
    }
   ],
   "source": [
    "fruits = [\"pomme\", \"banane\", \"cerise\"]\n",
    "for idx, fruit in enumerate(fruits):\n",
    "    print(idx, fruit)"
   ]
  },
  {
   "cell_type": "markdown",
   "id": "cbb6350f",
   "metadata": {},
   "source": [
    "### zip"
   ]
  },
  {
   "cell_type": "code",
   "execution_count": 11,
   "id": "c40a25b5",
   "metadata": {},
   "outputs": [
    {
     "name": "stdout",
     "output_type": "stream",
     "text": [
      "A 10\n",
      "B 20\n",
      "C 15\n"
     ]
    }
   ],
   "source": [
    "names = [\"A\", \"B\", \"C\"]\n",
    "scores = [10, 20, 15]\n",
    "for name, score in zip(names, scores):\n",
    "    print(name, score)"
   ]
  },
  {
   "cell_type": "markdown",
   "id": "6bcd567d",
   "metadata": {},
   "source": [
    "### while"
   ]
  },
  {
   "cell_type": "code",
   "execution_count": 12,
   "id": "70b4e0d9",
   "metadata": {},
   "outputs": [
    {
     "name": "stdout",
     "output_type": "stream",
     "text": [
      "tick 3\n",
      "tick 2\n",
      "tick 1\n"
     ]
    }
   ],
   "source": [
    "n = 3\n",
    "while n > 0:\n",
    "    print(\"tick\", n)\n",
    "    n -= 1"
   ]
  },
  {
   "cell_type": "markdown",
   "id": "b0466073",
   "metadata": {},
   "source": [
    "## 8) Structures de données clés\n",
    "\n",
    "- `list`: mutable, ordonnée\n",
    "- `tuple`: immuable, ordonnée\n",
    "- `dict`: mapping clé → valeur\n",
    "- `set`: ensemble, unique"
   ]
  },
  {
   "cell_type": "code",
   "execution_count": 13,
   "id": "b6ce28fc",
   "metadata": {},
   "outputs": [
    {
     "name": "stdout",
     "output_type": "stream",
     "text": [
      "<class 'list'> <class 'tuple'> <class 'dict'> <class 'set'>\n",
      "[1, 2, 3, 4]\n",
      "1 default\n"
     ]
    }
   ],
   "source": [
    "L = [1, 2, 3]\n",
    "T = (1, 2, 3)\n",
    "D = {\"a\": 1, \"b\": 2}\n",
    "S = {1, 2, 3}\n",
    "\n",
    "print(type(L), type(T), type(D), type(S))\n",
    "\n",
    "# Mutabilité\n",
    "L.append(4)\n",
    "print(L)\n",
    "# T[0] = 5  # erreur si décommentée\n",
    "\n",
    "# accéder aux valeurs dict\n",
    "print(D.get(\"a\"), D.get(\"z\", \"default\"))"
   ]
  },
  {
   "cell_type": "markdown",
   "id": "a479fac9",
   "metadata": {},
   "source": [
    "## 9) Compréhensions (list/dict/set) et générateurs\n",
    "\n",
    "Compréhensions = idiomatique et souvent plus rapide que boucles explicites pour créer des structures.\n",
    "\n",
    "#### list comprehension"
   ]
  },
  {
   "cell_type": "code",
   "execution_count": 14,
   "id": "9d10e938",
   "metadata": {},
   "outputs": [
    {
     "name": "stdout",
     "output_type": "stream",
     "text": [
      "[0, 4, 16, 36, 64]\n"
     ]
    }
   ],
   "source": [
    "squares = [x * x for x in range(10) if x % 2 == 0]\n",
    "print(squares)"
   ]
  },
  {
   "cell_type": "markdown",
   "id": "4bb61a68",
   "metadata": {},
   "source": [
    "### dict comprehension"
   ]
  },
  {
   "cell_type": "code",
   "execution_count": 15,
   "id": "7869c791",
   "metadata": {},
   "outputs": [
    {
     "name": "stdout",
     "output_type": "stream",
     "text": [
      "{0: 0, 1: 1, 2: 4, 3: 9, 4: 16}\n"
     ]
    }
   ],
   "source": [
    "d = {x: x * x for x in range(5)}\n",
    "print(d)"
   ]
  },
  {
   "cell_type": "markdown",
   "id": "4781e828",
   "metadata": {},
   "source": [
    "### set comprehension"
   ]
  },
  {
   "cell_type": "code",
   "execution_count": 16,
   "id": "b75ada6d",
   "metadata": {},
   "outputs": [
    {
     "name": "stdout",
     "output_type": "stream",
     "text": [
      "{0, 1, 2}\n"
     ]
    }
   ],
   "source": [
    "s = {x % 3 for x in range(10)}\n",
    "print(s)"
   ]
  },
  {
   "cell_type": "markdown",
   "id": "97de32f2",
   "metadata": {},
   "source": [
    "### generator expression (lazy)"
   ]
  },
  {
   "cell_type": "code",
   "execution_count": 17,
   "id": "23878ce8",
   "metadata": {},
   "outputs": [
    {
     "name": "stdout",
     "output_type": "stream",
     "text": [
      "0\n",
      "[1, 4, 9, 16]\n"
     ]
    }
   ],
   "source": [
    "gen = (x * x for x in range(5))\n",
    "print(next(gen))\n",
    "print(list(gen))"
   ]
  },
  {
   "cell_type": "markdown",
   "id": "308e6ea4",
   "metadata": {},
   "source": [
    "## 10) Fonctions (définition, args, kwargs, docstrings)\n",
    "\n",
    "- Documenter chaque fonction avec une docstring.\n",
    "- Utiliser typing pour signatures."
   ]
  },
  {
   "cell_type": "code",
   "execution_count": 18,
   "id": "8b0330f6",
   "metadata": {},
   "outputs": [
    {
     "name": "stdout",
     "output_type": "stream",
     "text": [
      "Bonjour, Abraham\n",
      "BONJOUR, ABRAHAM\n"
     ]
    }
   ],
   "source": [
    "from typing import Any, Dict\n",
    "\n",
    "def greet(name: str, loud: bool = False) -> str:\n",
    "    \"\"\"Retourne une salutation.\n",
    "\n",
    "    Args:\n",
    "        name: nom de la personne\n",
    "        loud: si vrai, renvoie en majuscules\n",
    "\n",
    "    Returns:\n",
    "        La chaîne de salutation.\n",
    "    \"\"\"\n",
    "    msg = f\"Bonjour, {name}\"\n",
    "    return msg.upper() if loud else msg\n",
    "\n",
    "print(greet(\"Abraham\"))\n",
    "print(greet(\"Abraham\", loud=True))"
   ]
  },
  {
   "cell_type": "markdown",
   "id": "e4ca92c1",
   "metadata": {},
   "source": [
    "### *args / **kwargs"
   ]
  },
  {
   "cell_type": "code",
   "execution_count": 19,
   "id": "a8ee73c1",
   "metadata": {},
   "outputs": [
    {
     "name": "stdout",
     "output_type": "stream",
     "text": [
      "((1, 2), {'a': 3})\n"
     ]
    }
   ],
   "source": [
    "def kwargs_demo(*args, **kwargs)->Dict:\n",
    "    return args, kwargs\n",
    "\n",
    "print(kwargs_demo(1, 2, a=3))"
   ]
  },
  {
   "cell_type": "markdown",
   "id": "45f68ea6",
   "metadata": {},
   "source": [
    "## 11) Lambdas et fonctions anonymes\n",
    "\n",
    "Les lambdas sont utiles pour des callbacks courts mais éviter d'en abuser.\n"
   ]
  },
  {
   "cell_type": "code",
   "execution_count": 20,
   "id": "42bda418",
   "metadata": {},
   "outputs": [
    {
     "name": "stdout",
     "output_type": "stream",
     "text": [
      "[2, 4, 6]\n"
     ]
    }
   ],
   "source": [
    "s = [1, 2, 3]\n",
    "doubled = list(map(lambda x: x * 2, s))\n",
    "print(doubled)"
   ]
  },
  {
   "cell_type": "markdown",
   "id": "9fae2e88",
   "metadata": {},
   "source": [
    "## 12) Gestion des fichiers & context managers\n",
    "\n",
    "Toujours utiliser `with open(...)` pour assurer la fermeture du fichier.\n"
   ]
  },
  {
   "cell_type": "code",
   "execution_count": 21,
   "id": "c456f197",
   "metadata": {},
   "outputs": [
    {
     "name": "stdout",
     "output_type": "stream",
     "text": [
      "Hello.\n",
      "Beinevenu :)\n",
      "Ceci est un test \n",
      "Ceci est un test \n",
      "Ceci est un test \n",
      "\n"
     ]
    }
   ],
   "source": [
    "from pathlib import Path\n",
    "\n",
    "p = Path(\"../data/tmp_example.txt\")\n",
    "with p.open(\"a\", encoding=\"utf8\") as f:\n",
    "    f.write(\"Ceci est un test \\n\")\n",
    "\n",
    "with p.open(\"r\", encoding=\"utf8\") as f:\n",
    "    print(f.read())"
   ]
  },
  {
   "cell_type": "markdown",
   "id": "f92dffbe",
   "metadata": {},
   "source": [
    "## 13) Exceptions & robustesse\n",
    "`try / except / finally` pour gérer erreurs attendues et nettoyer.\n"
   ]
  },
  {
   "cell_type": "code",
   "execution_count": 22,
   "id": "3e778a64",
   "metadata": {},
   "outputs": [
    {
     "name": "stdout",
     "output_type": "stream",
     "text": [
      "Erreur gérée: division by zero\n",
      "bloc finally exécuté\n"
     ]
    }
   ],
   "source": [
    "try:\n",
    "    1 / 0\n",
    "except ZeroDivisionError as e:\n",
    "    print(\"Erreur gérée:\", e)\n",
    "finally:\n",
    "    print(\"bloc finally exécuté\")"
   ]
  },
  {
   "cell_type": "code",
   "execution_count": 23,
   "id": "facc64a6",
   "metadata": {},
   "outputs": [
    {
     "name": "stdout",
     "output_type": "stream",
     "text": [
      "Conversion réussie\n",
      "pas d'erreur\n",
      "bloc finally exécuté\n"
     ]
    }
   ],
   "source": [
    "try : \n",
    "    int(\"5\")\n",
    "    print(\"Conversion réussie\")\n",
    "except Exception as e:\n",
    "    print(e)\n",
    "else:\n",
    "    print(\"pas d'erreur\")\n",
    "finally:\n",
    "    print(\"bloc finally exécuté\")\n"
   ]
  },
  {
   "cell_type": "markdown",
   "id": "8e4ccda7",
   "metadata": {},
   "source": [
    "### Les erreurs courantes en programmation Python se classent généralement en plusieurs catégories :\n",
    "1. Erreurs de Syntaxe : Ces erreurs surviennent lorsque le code viole les règles grammaticales de Python.\n",
    "   - **IndentationError** : Python utilise l'indentation pour définir les blocs de code, donc une indentation incohérente ou incorrecte (mélange d'espaces et de tabulations, mauvais nombre d'espaces) provoquera cette erreur.\n",
    "   - **Oubli de Deux-points ou de Parenthèses** : Oublier un deux-points à la fin des instructions if, for, while, ou des définitions de fonctions, ou des parenthèses mal appariées/manquantes dans les appels de fonctions ou les expressions.\n",
    "   - **Mots-clés ou Identificateurs Mal Orthographiés** : Erreurs typographiques dans les mots-clés comme print, def, if, ou les noms de variables/fonctions.\n",
    "2. Erreurs d'Exécution (Exceptions) : Ces erreurs surviennent pendant l'exécution du programme, même si la syntaxe est correcte.\n",
    "   - **NameError** : Tentative d'utilisation d'une variable, fonction ou module qui n'a pas été défini ou est hors de portée.\n",
    "   - **TypeError** : Exécution d'une opération sur un objet d'un type inapproprié (par exemple, essayer de concaténer directement une chaîne et un entier).\n",
    "   - **ValueError** : Une fonction reçoit un argument du bon type mais avec une valeur inappropriée (par exemple, int(\"abc\")).\n",
    "   - **IndexError** : Tentative d'accès à un index hors limites dans une séquence comme une liste ou un tuple.\n",
    "   - **KeyError** : Tentative d'accès à une clé inexistante dans un dictionnaire.\n",
    "   - **AttributeError** : Tentative d'accès à un attribut ou une méthode sur un objet qui ne le possède pas.\n",
    "   - **ZeroDivisionError** : Tentative de division d'un nombre par zéro.\n",
    "   - **FileNotFoundError** : Tentative d'ouverture d'un fichier inexistant.\n",
    "   - **ModuleNotFoundError** : Tentative d'importation d'un module introuvable.\n",
    "3. Erreurs Logiques : Ces erreurs ne font pas planter le programme, mais conduisent à des résultats incorrects ou inattendus. Elles sont souvent plus difficiles à diagnostiquer car le programme s'exécute sans lever d'exception.\n",
    "   - **Erreurs de Décalage d'Une Unité** : Courantes dans les boucles ou les opérations basées sur des plages, conduisant à itérer un élément de trop ou de trop peu.\n",
    "   - **Utilisation Incorrecte des Opérateurs** : Utilisation de l'opérateur d'affectation (=) au lieu de l'opérateur de comparaison (==) dans les instructions conditionnelles.\n",
    "   - **Logique Booléenne Incorrecte** : Erreurs dans la construction des conditions if ou des expressions booléennes complexes.\n",
    "\n",
    "\n",
    "## 14) Modules et import\n",
    "Importez ce dont vous avez besoin. Exemple : `import math` ou `from math import sqrt`."
   ]
  },
  {
   "cell_type": "code",
   "execution_count": 24,
   "id": "51b19dfe",
   "metadata": {},
   "outputs": [
    {
     "name": "stdout",
     "output_type": "stream",
     "text": [
      "4.0\n",
      "4\n"
     ]
    }
   ],
   "source": [
    "import math\n",
    "print(math.sqrt(16))\n",
    "from math import ceil\n",
    "print(ceil(3.2))"
   ]
  }
 ],
 "metadata": {
  "kernelspec": {
   "display_name": "base",
   "language": "python",
   "name": "python3"
  },
  "language_info": {
   "codemirror_mode": {
    "name": "ipython",
    "version": 3
   },
   "file_extension": ".py",
   "mimetype": "text/x-python",
   "name": "python",
   "nbconvert_exporter": "python",
   "pygments_lexer": "ipython3",
   "version": "3.12.2"
  }
 },
 "nbformat": 4,
 "nbformat_minor": 5
}
